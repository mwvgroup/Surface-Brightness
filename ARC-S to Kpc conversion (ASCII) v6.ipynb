{
 "cells": [
  {
   "cell_type": "code",
   "execution_count": 26,
   "metadata": {
    "collapsed": false
   },
   "outputs": [],
   "source": [
    "'''In the output file \"null\" occures when there is no data point to convert, and nan coresponds to having no redshift\n",
    "value to convert with. All lists named a,b,c,d,... are used as columns 0,1,2,3,... in the output file. The title of each collumn is commented.'''\n",
    "\n",
    "\n",
    "# Import modules:\n",
    "\n",
    "from uncertainties import ufloat #Documentation: https://pythonhosted.org/uncertainties/user_guide.html\n",
    "from uncertainties.umath import *\n",
    "from numpy import pi as pi\n",
    "from numpy import nan as nan #np.pi/ nan\n",
    "#import astropy\n",
    "from astropy.cosmology import WMAP9 as cosmo\n",
    "from astropy.table import Table, Column\n",
    "import astropy.io.ascii as asc"
   ]
  },
  {
   "cell_type": "code",
   "execution_count": 27,
   "metadata": {
    "collapsed": false
   },
   "outputs": [
    {
     "data": {
      "text/plain": [
       "'need to add real exposure time to data_file'"
      ]
     },
     "execution_count": 27,
     "metadata": {},
     "output_type": "execute_result"
    }
   ],
   "source": [
    "#This cell defines file paths and initial parameters:\n",
    "\n",
    "#Input and output file information:\n",
    "Redshift_file='Redshift.csv'\n",
    "Red_name = 0 #column number of SN names from Redshift_file\n",
    "Red_val = 4 #column number of redshift values from Redshift_file\n",
    "\n",
    "Data_file='GALEX_nuv_fuv_flux_(UTF_8)T.csv' #watch for special characters\n",
    "Data_name = 0 #column number of SN names from Data_file\n",
    "Data_val = 1 #column number of counts per second from Data_file\n",
    "Data_exp = 2 #column number of exposure time from Data_file\n",
    "\n",
    "Output_file=\"output.csv\"\n",
    "\n",
    "#Initial paramaters are defined\n",
    "flux_conv = 2.06*10**(-16) #(erg cm-2 Å-1)/count\n",
    "        #NUV: Flux = 2.06*10**(-16) x CPS, FUV: Flux = 1.40*10**(-15) x CPS  -- Reference: http://asd.gsfc.nasa.gov/archive/galex/FAQ/counts_background.html\n",
    "\n",
    "Pixel_area=(1.5/60)**2 #Pixel width is given in arcseconds, converted to arcmin, and squared to find area in arcmin^2.\n",
    "\n",
    "#use variable=0 for unknown error values\n",
    "\n",
    "'''need to add real exposure time to data_file'''"
   ]
  },
  {
   "cell_type": "code",
   "execution_count": 28,
   "metadata": {
    "collapsed": false
   },
   "outputs": [],
   "source": [
    "#Since we are using ufloats we create a function that will take list of ufloats and \n",
    "    #generate a list of principle values and a list of errors\n",
    "\n",
    "def seperate(l,l_n,l_s):\n",
    "    z=0\n",
    "    while z<len(l):\n",
    "        if l[z] != ('null' or 'nan'):\n",
    "            l_n.append(\";\".join([str(v) for v in [x.n for x in c[z]]]))\n",
    "            l_s.append(\";\".join([str(v) for v in [x.s for x in c[z]]]))\n",
    "        else:\n",
    "            l_n.append(c[z])\n",
    "            l_s.append(c[z])\n",
    "        z=z+1"
   ]
  },
  {
   "cell_type": "code",
   "execution_count": 44,
   "metadata": {
    "collapsed": false
   },
   "outputs": [],
   "source": [
    "#Input files are read into tables using ascii module:\n",
    "\n",
    "data = Table(asc.read(Data_file))\n",
    "red = Table(asc.read(Redshift_file)) "
   ]
  },
  {
   "cell_type": "code",
   "execution_count": 41,
   "metadata": {
    "collapsed": false
   },
   "outputs": [
    {
     "name": "stderr",
     "output_type": "stream",
     "text": [
      "/Users/Daniel/anaconda/lib/python3.4/site-packages/numpy/ma/core.py:3900: UserWarning: Warning: converting a masked element to nan.\n",
      "  warnings.warn(\"Warning: converting a masked element to nan.\")\n",
      "/Users/Daniel/anaconda/lib/python3.4/site-packages/scipy/integrate/quadpack.py:352: IntegrationWarning: The occurrence of roundoff error is detected, which prevents \n",
      "  the requested tolerance from being achieved.  The error may be \n",
      "  underestimated.\n",
      "  warnings.warn(msg, IntegrationWarning)\n"
     ]
    },
    {
     "data": {
      "text/plain": [
       "'Need to correct formula for error in redshift'"
      ]
     },
     "execution_count": 41,
     "metadata": {},
     "output_type": "execute_result"
    }
   ],
   "source": [
    "#This cell uses the table \"red\" to create a dictionary of redshift values {SN name: Redshift value}\n",
    "# and a dictionary of conversion factors {SN name: kpc/arcmin}\n",
    "\n",
    "conv={}\n",
    "redshift={}\n",
    "n=0\n",
    "\n",
    "#Create two dictionaries of the form {SNname: (redshift,error)}. Error in redshift is taken as (1)/1000\n",
    "for row in red:\n",
    "    \n",
    "    conv[red[n][Red_name].replace(\" \", \"\")]=ufloat(red[n][4],(2./1000)) #sqrt of sum in quaduture of expansion = 1/1000, peculiar=150km/s\n",
    "    redshift[red[n][Red_name].replace(\" \", \"\")]=ufloat(red[n][4],(2./1000))\n",
    "    n=n+1\n",
    "    \n",
    "#remove nan\n",
    "\n",
    "#Convert redshift values into conversion factors. \"conv\" is changed to the form {SNname: conversion factor}\n",
    "for key, value in conv.items():\n",
    "    conv[key] = ufloat(\n",
    "        \n",
    "                    ((1/cosmo.kpc_comoving_per_arcmin(value.n))**2).value,\n",
    "        \n",
    "                    abs(((1/cosmo.kpc_comoving_per_arcmin(value.n+value.s))**2).value\n",
    "                    -((1/cosmo.kpc_comoving_per_arcmin(value.n-value.s))**2).value)/2\n",
    "        \n",
    "                      )\n",
    " \n",
    "\n",
    "'''Need to correct formula for error in redshift'''"
   ]
  },
  {
   "cell_type": "code",
   "execution_count": 31,
   "metadata": {
    "collapsed": false
   },
   "outputs": [],
   "source": [
    "#This cell creates a list for the supernova names and a list for their corresponding pixel values\n",
    "\n",
    "a=[] #SN name\n",
    "\n",
    "b_n=[] #Counts per second value\n",
    "b_s=[] #counts per second error\n",
    "b=[] # combined counts per second list using ufloats\n",
    "\n",
    "\n",
    "#Add appropriate values to lists a, b, and c:\n",
    "for row in data: \n",
    "    a.append(row[Data_name])\n",
    "    \n",
    "    if row[Data_val]!='':\n",
    "        #print(row[Data_val])\n",
    "        b_n = row[Data_val].split(';')\n",
    "        b_s = [(float(a)*float(b))**(1/2) for a,b in zip(row[Data_val].split(\";\"),row[Data_exp].split(\";\"))] #error in cps = sqrt(cps*eposure time)\n",
    "        b.append([ufloat(float(a),float(b)) for a,b in zip(b_n,b_s)])\n",
    "\n",
    "    else:\n",
    "        b.append(\"null\")\n"
   ]
  },
  {
   "cell_type": "code",
   "execution_count": 32,
   "metadata": {
    "collapsed": false
   },
   "outputs": [
    {
     "data": {
      "text/plain": [
       "'Error in cps -> flux conversion factor was not considered'"
      ]
     },
     "execution_count": 32,
     "metadata": {},
     "output_type": "execute_result"
    }
   ],
   "source": [
    "#This cell converts pixel values to flux values:\n",
    "\n",
    "c=[] #Flux in ufloat form\n",
    "\n",
    "for elt in b:\n",
    "    if elt !='null': \n",
    "        l = [x*flux_conv for x in elt]\n",
    "        c.append(l)   #can make this into one line\n",
    "    else:\n",
    "        c.append(\"null\")\n",
    " \n",
    "'''Error in cps -> flux conversion factor was not considered'''"
   ]
  },
  {
   "cell_type": "code",
   "execution_count": 43,
   "metadata": {
    "collapsed": false
   },
   "outputs": [
    {
     "name": "stderr",
     "output_type": "stream",
     "text": [
      "/Users/Daniel/anaconda/lib/python3.4/site-packages/scipy/integrate/quadpack.py:352: IntegrationWarning: The occurrence of roundoff error is detected, which prevents \n",
      "  the requested tolerance from being achieved.  The error may be \n",
      "  underestimated.\n",
      "  warnings.warn(msg, IntegrationWarning)\n"
     ]
    },
    {
     "data": {
      "text/plain": [
       "'error in comoving_distance should be changed to a specific equation.'"
      ]
     },
     "execution_count": 43,
     "metadata": {},
     "output_type": "execute_result"
    }
   ],
   "source": [
    "#This cell converts flux values to luminosity values\n",
    "\n",
    "d=[] #luminosity in ufloat form\n",
    "\n",
    "n=0\n",
    "while n < len(c):\n",
    "    if (a[n].replace(\" \", \"\")) in conv.keys():\n",
    "        if c[n]!=\"null\":\n",
    "            r_n = cosmo.comoving_distance(redshift[a[n].replace(\" \", \"\")].n).cgs.value\n",
    "            r_s=(\n",
    "                abs((cosmo.comoving_distance(redshift[a[n].replace(\" \", \"\")].n+redshift[a[n].replace(\" \", \"\")].s).cgs)\n",
    "                    -(cosmo.comoving_distance(redshift[a[n].replace(\" \", \"\")].n-redshift[a[n].replace(\" \", \"\")].s).cgs)/2).value          \n",
    "                )\n",
    "            r=ufloat(r_n,r_s)\n",
    "            lum = [ x*4*pi*(r)**2 for x in c[n] ]\n",
    "            d.append(lum)\n",
    "        else:\n",
    "            d.append(\"null\")\n",
    "    else:\n",
    "        d.append([ufloat(nan,nan)])\n",
    "    n=n+1\n",
    "    \n",
    "'''error in comoving_distance should be changed to a specific equation.'''"
   ]
  },
  {
   "cell_type": "code",
   "execution_count": 13,
   "metadata": {
    "collapsed": false
   },
   "outputs": [
    {
     "data": {
      "text/plain": [
       "'Error in pixel area and conversion factor were not considered'"
      ]
     },
     "execution_count": 13,
     "metadata": {},
     "output_type": "execute_result"
    }
   ],
   "source": [
    "#This cell calculates the surface brightness and converts values to proper units.\n",
    "\n",
    "\n",
    "e=[] #Surface Brightness (erg s-1 A-1 kpc^-2)\n",
    "\n",
    "n=0\n",
    "while n < len(d):\n",
    "    if d[n]!=\"null\":\n",
    "        if (a[n].replace(\" \", \"\")) in conv.keys():\n",
    "            \n",
    "            #Convert values in the list from px^-1 to arcmin^-2 and then from arcmin^-2 to kpc^-2\n",
    "            arcmin = [ x/Pixel_area for x in d[n] ]\n",
    "            kpc = [ x*(conv[(a[n].replace(\" \", \"\"))].n) for x in arcmin ]\n",
    "            e.append(kpc)\n",
    "            \n",
    "        else:\n",
    "            e.append(\"nan\") #work to remove nan additions later\n",
    "    else:\n",
    "        e.append(\"null\")\n",
    "    n=n+1\n",
    "'''Error in pixel area and conversion factor were not considered'''"
   ]
  },
  {
   "cell_type": "code",
   "execution_count": 14,
   "metadata": {
    "collapsed": false
   },
   "outputs": [],
   "source": [
    "#We create lists for each measurment and error and write these lists to the output file\n",
    "\n",
    "b_n, b_s, c_n, c_s, d_n, d_s, e_n, e_s=[], [], [], [], [], [], [], []\n",
    "\n",
    "seperate(b,b_n,b_s)\n",
    "seperate(c,c_n,c_s)\n",
    "seperate(d,d_n,d_s)\n",
    "seperate(e,e_n,e_s)\n",
    "\n",
    "asc.write([a, b_n, b_s, c_n, c_s, d_n, d_s, e_n, e_s], Output_file, names=[\n",
    "        'SN Names', \n",
    "        'Pixel Value N/s', 'Pixel Value Error N^(1/2)',\n",
    "        'Flux (erg s-1 cm-2 A-1 px-1)','Flux Error (erg s-1 cm-2 A-1 px-1)',\n",
    "        \"Luminosity (erg s-1 A-1 px-1)\", \"Luminosity Error (erg s-1 A-1 px-1)\",\n",
    "        \"Surface Brightness (erg s-1 A-1 kpc^-2)\", \"Surface Brightness Error (erg s-1 A-1 kpc^-2)\" \n",
    "        ], delimiter=\",\")\n",
    "\n",
    "#do I need to close the file?"
   ]
  },
  {
   "cell_type": "code",
   "execution_count": null,
   "metadata": {
    "collapsed": true
   },
   "outputs": [],
   "source": [
    "condense galex and redshift files together\n",
    "check for typos in galex file so I can remove some of the if else loops"
   ]
  }
 ],
 "metadata": {
  "kernelspec": {
   "display_name": "Python 3",
   "language": "python",
   "name": "python3"
  },
  "language_info": {
   "codemirror_mode": {
    "name": "ipython",
    "version": 3
   },
   "file_extension": ".py",
   "mimetype": "text/x-python",
   "name": "python",
   "nbconvert_exporter": "python",
   "pygments_lexer": "ipython3",
   "version": "3.4.3"
  }
 },
 "nbformat": 4,
 "nbformat_minor": 0
}
